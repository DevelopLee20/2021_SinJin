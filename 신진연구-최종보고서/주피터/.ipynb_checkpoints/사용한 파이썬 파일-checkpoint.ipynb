{
 "cells": [
  {
   "cell_type": "code",
   "execution_count": 123,
   "metadata": {
    "ExecuteTime": {
     "end_time": "2022-01-08T10:48:39.022934Z",
     "start_time": "2022-01-08T10:48:39.020265Z"
    }
   },
   "outputs": [],
   "source": [
    "# # 테스트용\n",
    "# lrs = [0.1]\n",
    "# epochs = [100]\n",
    "# batchs = [100]\n",
    "\n",
    "# dt_params = {\n",
    "#     'n_estimators' : [100], # 기본 100\n",
    "#     'max_depth' : [6], # 기본 6\n",
    "#     'min_samples_split' : [2], # 기본 2\n",
    "#     'min_samples_leaf' : [1] # 기본 1\n",
    "# }\n",
    "\n",
    "# gb_params = {\n",
    "#     'learning_rate' : [0.1], # 기본 0.1\n",
    "#     'n_estimators' : [100], # 기본 100\n",
    "#     'min_samples_split' : [2], # 기본 2\n",
    "#     'min_samples_leaf' : [1], # 기본 1\n",
    "#     'max_depth' : [6] # 기본 6\n",
    "# }\n",
    "\n",
    "# ab_params = {\n",
    "#     'n_estimators' : [50], # 기본 50\n",
    "#     'learning_rate' : [1.0] # 기본 1.0\n",
    "# }"
   ]
  },
  {
   "cell_type": "code",
   "execution_count": 124,
   "metadata": {
    "ExecuteTime": {
     "end_time": "2022-01-08T10:48:39.041577Z",
     "start_time": "2022-01-08T10:48:39.033359Z"
    }
   },
   "outputs": [],
   "source": [
    "# # 실사용\n",
    "lrs = [i*0.000005 for i in range(1,11)]\n",
    "epochs = [i*50 for i in range(1,7)]\n",
    "batchs = [i*500 for i in range(1,11)]\n",
    "\n",
    "dt_params = {\n",
    "    'n_estimators' : [i*10 for i in range(5,15)], # 기본 100\n",
    "    'max_depth' : [i for i in range(3,9)], # 기본 6\n",
    "    'min_samples_split' : [i for i in range(1,5)], # 기본 2\n",
    "    'min_samples_leaf' : [i for i in range(0,5)] # 기본 1\n",
    "}\n",
    "\n",
    "gb_params = {\n",
    "    'learning_rate' : [i*0.05 for i in range(1,20)], # 기본 0.1\n",
    "    'n_estimators' : [i*10 for i in range(5,15)], # 기본 100\n",
    "    'min_samples_split' : [i for i in range(1,5)], # 기본 2\n",
    "    'min_samples_leaf' : [i for i in range(0,5)], # 기본 1\n",
    "    'max_depth' : [i for i in range(3,9)] # 기본 6\n",
    "}\n",
    "\n",
    "ab_params = {\n",
    "    'n_estimators' : [i*10 for i in range(2,8)], # 기본 50\n",
    "    'learning_rate' : [i*0.1 for i in range(1,10)] # 기본 1.0\n",
    "}"
   ]
  },
  {
   "cell_type": "code",
   "execution_count": 125,
   "metadata": {
    "ExecuteTime": {
     "end_time": "2022-01-08T10:48:39.056084Z",
     "start_time": "2022-01-08T10:48:39.042901Z"
    }
   },
   "outputs": [],
   "source": [
    "import pandas as pd\n",
    "from tensorflow.keras import utils\n",
    "\n",
    "csv = pd.read_csv('ATP.csv')\n",
    "\n",
    "X = csv.values[:,:15]\n",
    "y = utils.to_categorical(csv.values[:,15], 2)"
   ]
  },
  {
   "cell_type": "code",
   "execution_count": 126,
   "metadata": {
    "ExecuteTime": {
     "end_time": "2022-01-08T10:48:39.087290Z",
     "start_time": "2022-01-08T10:48:39.057788Z"
    }
   },
   "outputs": [],
   "source": [
    "from sklearn.model_selection import train_test_split\n",
    "\n",
    "X_train, X_test, y_train, y_test = train_test_split(X, y, stratify=y, test_size=0.3, random_state=1004)\n",
    "\n",
    "CNN_X_train = X_train.reshape(X_train.shape[0], 15, 1, 1)\n",
    "CNN_X_test = X_test.reshape(X_test.shape[0], 15, 1, 1)"
   ]
  },
  {
   "cell_type": "code",
   "execution_count": 127,
   "metadata": {
    "ExecuteTime": {
     "end_time": "2022-01-08T10:48:39.097498Z",
     "start_time": "2022-01-08T10:48:39.088379Z"
    }
   },
   "outputs": [],
   "source": [
    "from tensorflow.keras import layers, models, optimizers\n",
    "\n",
    "def model_DNN(lr, epoch, batch):\n",
    "    model = models.Sequential()\n",
    "    model.add(layers.Dense(64, input_shape=(15,), activation='relu'))\n",
    "    model.add(layers.Dense(32, activation='relu'))\n",
    "    model.add(layers.Dense(8, activation='relu'))\n",
    "    model.add(layers.Dense(2,  activation='softmax'))\n",
    "    model.compile(loss='categorical_crossentropy', optimizer=optimizers.Adam(lr), metrics=['accuracy'])\n",
    "    history = model.fit(X_train, y_train, epochs=epoch, verbose=0, batch_size=batch)\n",
    "    score = model.evaluate(X_test, y_test, verbose=0)\n",
    "    result.append([\"DNN\", 'Adam', lr, epoch, batch, round(history.history['accuracy'][-1],5) , round(score[1],5)])\n",
    "\n",
    "def model_CNN(lr, epoch, batch):    \n",
    "    model = models.Sequential()\n",
    "    model.add(layers.Conv2D(64, kernel_size=(5,1), input_shape=(15,1,1), activation='relu'))\n",
    "    model.add(layers.Conv2D(64, (5,1), activation='relu'))\n",
    "    model.add(layers.MaxPooling2D(pool_size=(3,1)))\n",
    "    model.add(layers.Dropout(0.25))\n",
    "    model.add(layers.Flatten())\n",
    "    model.add(layers.Dense(16, activation='relu'))\n",
    "    model.add(layers.Dropout(0.25))\n",
    "    model.add(layers.Dense(2, activation='softmax'))\n",
    "    model.compile(loss='categorical_crossentropy',  optimizer=optimizers.RMSprop(lr), metrics=['accuracy'])\n",
    "    history = model.fit(CNN_X_train, y_train, epochs=epoch, verbose=0, batch_size=batch)\n",
    "    score = model.evaluate(CNN_X_test, y_test, verbose=0)\n",
    "    result.append([\"CNN\", 'RMSprop', lr, epoch, batch, round(history.history['accuracy'][-1],5) , round(score[1],5)])"
   ]
  },
  {
   "cell_type": "code",
   "execution_count": 128,
   "metadata": {
    "ExecuteTime": {
     "end_time": "2022-01-08T11:20:46.786633Z",
     "start_time": "2022-01-08T10:48:39.098808Z"
    }
   },
   "outputs": [],
   "source": [
    "result = []\n",
    "\n",
    "for a in lrs:\n",
    "    for b in epochs:\n",
    "        for c in batchs:                \n",
    "            model_CNN(a,b,c)\n",
    "            model_DNN(a,b,c)"
   ]
  },
  {
   "cell_type": "code",
   "execution_count": 129,
   "metadata": {
    "ExecuteTime": {
     "end_time": "2022-01-08T11:20:46.801065Z",
     "start_time": "2022-01-08T11:20:46.788549Z"
    }
   },
   "outputs": [],
   "source": [
    "output = pd.DataFrame(result, columns=['Model','Optimizer','lr','epoch','batch','train_acc','test_acc'])\n",
    "output.to_csv('CNN_DNN_result.csv', index=False)"
   ]
  },
  {
   "cell_type": "code",
   "execution_count": 130,
   "metadata": {
    "ExecuteTime": {
     "end_time": "2022-01-08T11:20:46.829525Z",
     "start_time": "2022-01-08T11:20:46.802141Z"
    }
   },
   "outputs": [],
   "source": [
    "noh_y = csv.values[:,15]\n",
    "nX_train, nX_test, ny_train, ny_test = train_test_split(X, noh_y, stratify=y, test_size=0.3, random_state=1004)"
   ]
  },
  {
   "cell_type": "code",
   "execution_count": 131,
   "metadata": {
    "ExecuteTime": {
     "end_time": "2022-01-08T11:20:46.834003Z",
     "start_time": "2022-01-08T11:20:46.830649Z"
    }
   },
   "outputs": [],
   "source": [
    "# 정렬 후 그래프 출력\n",
    "import matplotlib.pyplot as plt\n",
    "\n",
    "def sorting_plt(values):\n",
    "    keys = csv.columns[:-1]\n",
    "    lst = {}\n",
    "    for i,j in zip(keys,values):\n",
    "        lst[j] = i\n",
    "    \n",
    "    lst = sorted(lst.items(), reverse=0)\n",
    "    \n",
    "    plt.barh([i[1] for i in lst], [i[0] for i in lst])\n",
    "    plt.show()"
   ]
  },
  {
   "cell_type": "code",
   "execution_count": 132,
   "metadata": {
    "ExecuteTime": {
     "end_time": "2022-01-08T11:20:46.841199Z",
     "start_time": "2022-01-08T11:20:46.836104Z"
    }
   },
   "outputs": [],
   "source": [
    "from sklearn.model_selection import GridSearchCV\n",
    "\n",
    "def Grid_cv(model, params, X, y):\n",
    "    grid_cv = GridSearchCV(model, param_grid=params, cv=3, n_jobs= -1)\n",
    "    grid_cv.fit(X,y)\n",
    "    return grid_cv"
   ]
  },
  {
   "cell_type": "code",
   "execution_count": 133,
   "metadata": {
    "ExecuteTime": {
     "end_time": "2022-01-08T11:56:13.863348Z",
     "start_time": "2022-01-08T11:20:46.842608Z"
    }
   },
   "outputs": [
    {
     "name": "stdout",
     "output_type": "stream",
     "text": [
      "{'max_depth': 7, 'min_samples_leaf': 1, 'min_samples_split': 4, 'n_estimators': 130}\n",
      "0.9317056801337245\n",
      "0.9163079866092778\n",
      "{'learning_rate': 0.35000000000000003, 'max_depth': 3, 'min_samples_leaf': 2, 'min_samples_split': 2, 'n_estimators': 100}\n",
      "0.9321161888541961\n",
      "0.9067431850789096\n",
      "{'learning_rate': 0.30000000000000004, 'n_estimators': 70}\n",
      "0.9317063109092629\n",
      "0.9182209469153515\n"
     ]
    }
   ],
   "source": [
    "from sklearn.ensemble import RandomForestClassifier\n",
    "\n",
    "# 그리디 알고리즘으로 최적의 매개변수 찾기\n",
    "dt = RandomForestClassifier(random_state=0, n_jobs= -1)\n",
    "dt_result = Grid_cv(dt, dt_params, X_train, y_train)\n",
    "\n",
    "# 찾은 매개변수와 스코어 출력\n",
    "print(dt_result.best_params_)\n",
    "print(dt_result.best_score_)\n",
    "print(dt_result.score(X_test, y_test))\n",
    "\n",
    "from sklearn.ensemble import GradientBoostingClassifier\n",
    "\n",
    "# 그리디 알고리즘으로 최적의 매개변수 찾기\n",
    "gb = GradientBoostingClassifier(random_state=0)\n",
    "gb_result = Grid_cv(gb, gb_params, nX_train, ny_train)\n",
    "\n",
    "# 찾은 매개변수와 스코어 출력\n",
    "print(gb_result.best_params_)\n",
    "print(gb_result.best_score_)\n",
    "print(gb_result.score(nX_test, ny_test))\n",
    "\n",
    "from sklearn.ensemble import AdaBoostClassifier\n",
    "\n",
    "# 그리디 알고리즘으로 최적의 매개변수 찾기\n",
    "ab = AdaBoostClassifier(random_state=0)\n",
    "ab_result = Grid_cv(ab, ab_params, nX_train, ny_train)\n",
    "\n",
    "# 찾은 매개변수와 스코어 출력\n",
    "print(ab_result.best_params_)\n",
    "print(ab_result.best_score_)\n",
    "print(ab_result.score(nX_test, ny_test))"
   ]
  },
  {
   "cell_type": "code",
   "execution_count": 134,
   "metadata": {
    "ExecuteTime": {
     "end_time": "2022-01-08T11:56:16.433357Z",
     "start_time": "2022-01-08T11:56:13.864722Z"
    }
   },
   "outputs": [
    {
     "data": {
      "image/png": "[encoded data removed]",
      "text/plain": [
       "<Figure size 432x288 with 1 Axes>"
      ]
     },
     "metadata": {
      "needs_background": "light"
     },
     "output_type": "display_data"
    },
    {
     "data": {
      "image/png": "[encoded data removed]",
      "text/plain": [
       "<Figure size 432x288 with 1 Axes>"
      ]
     },
     "metadata": {
      "needs_background": "light"
     },
     "output_type": "display_data"
    },
    {
     "data": {
      "image/png": "[encoded data removed]",
      "text/plain": [
       "<Figure size 432x288 with 1 Axes>"
      ]
     },
     "metadata": {
      "needs_background": "light"
     },
     "output_type": "display_data"
    }
   ],
   "source": [
    "# 최적의 매개변수를 바탕으로 모델 학습\n",
    "best_dt = RandomForestClassifier(random_state=0, n_jobs= -1)\n",
    "best_dt.fit(X,y)\n",
    "\n",
    "# 학습 후 그래프 출력\n",
    "sorting_plt(best_dt.feature_importances_)\n",
    "\n",
    "# 최적의 매개변수를 바탕으로 모델 학습\n",
    "best_gb = GradientBoostingClassifier(random_state=0)\n",
    "best_gb.fit(X, noh_y)\n",
    "\n",
    "# 학습 후 그래프 출력\n",
    "sorting_plt(best_gb.feature_importances_)\n",
    "\n",
    "# 최적의 매개변수를 바탕으로 모델 학습\n",
    "best_ab = AdaBoostClassifier(random_state=0)\n",
    "best_ab.fit(X, noh_y)\n",
    "\n",
    "# 학습 후 그래프 출력\n",
    "sorting_plt(best_ab.feature_importances_)"
   ]
  },
  {
   "cell_type": "code",
   "execution_count": 135,
   "metadata": {
    "ExecuteTime": {
     "end_time": "2022-01-08T11:56:16.674519Z",
     "start_time": "2022-01-08T11:56:16.434547Z"
    }
   },
   "outputs": [],
   "source": [
    "def valuesort(values):\n",
    "    keys = csv.columns[:-1]\n",
    "    lst = {}\n",
    "    for i,j in zip(keys,values):\n",
    "        lst[j] = i\n",
    "\n",
    "    lst = sorted(lst.items(), reverse=1)\n",
    "\n",
    "    return lst\n",
    "\n",
    "df_rf = pd.DataFrame(dt_result.cv_results_)\n",
    "df_rf['model'] = \"RandomForest\"\n",
    "\n",
    "df_gb = pd.DataFrame(gb_result.cv_results_)\n",
    "df_gb['model'] = \"GradientBoosting\"\n",
    "\n",
    "df_ab = pd.DataFrame(ab_result.cv_results_)\n",
    "df_ab['model'] = \"AdaBoost\"\n",
    "\n",
    "weight_rf = pd.DataFrame(valuesort(best_dt.feature_importances_), columns=['weight','title'])\n",
    "weight_gb = pd.DataFrame(valuesort(best_gb.feature_importances_), columns=['weight','title'])\n",
    "weight_ab = pd.DataFrame(valuesort(best_ab.feature_importances_), columns=['weight','title'])\n",
    "\n",
    "weight_rf[['title','weight']].to_csv('RandomForest_Weight.csv', index=0, encoding='utf-8-sig')\n",
    "weight_gb[['title','weight']].to_csv('GradientBoosting_Weight.csv', index=0, encoding='utf-8-sig')\n",
    "weight_ab[['title','weight']].to_csv('AdaBoost_Weight.csv', index=0, encoding='utf-8-sig')\n",
    "\n",
    "df_1 = pd.concat([df_rf, df_gb])\n",
    "df_2 = pd.concat([df_1, df_ab])\n",
    "\n",
    "df_3 = pd.DataFrame()\n",
    "df_3['model'] = df_2['model']\n",
    "df_3['score'] = df_2['mean_test_score']\n",
    "df_3['params'] = df_2['params']\n",
    "\n",
    "df_3.to_csv('Model_Score.csv', index=0)"
   ]
  },
  {
   "cell_type": "code",
   "execution_count": 136,
   "metadata": {
    "ExecuteTime": {
     "end_time": "2022-01-08T11:56:16.680489Z",
     "start_time": "2022-01-08T11:56:16.675831Z"
    }
   },
   "outputs": [],
   "source": [
    "def Grid_cv2(model, params, X, y):\n",
    "    grid_cv = GridSearchCV(model, param_grid=params, cv=3, n_jobs= -1)\n",
    "    grid_cv.fit(X,y)\n",
    "    return grid_cv\n",
    "\n",
    "def sorting_plt2(values):\n",
    "    keys = bad_data.columns[:-1]\n",
    "    lst = {}\n",
    "    for i,j in zip(keys,values):\n",
    "        lst[j] = i\n",
    "    \n",
    "    lst = sorted(lst.items(), reverse=0)\n",
    "    \n",
    "    plt.barh([i[1] for i in lst], [i[0] for i in lst])\n",
    "    plt.show()\n",
    "    \n",
    "def valuesort2(values):\n",
    "    keys = bad_data.columns[:-1]\n",
    "    lst = {}\n",
    "    for i,j in zip(keys,values):\n",
    "        lst[j] = i\n",
    "\n",
    "    lst = sorted(lst.items(), reverse=1)\n",
    "\n",
    "    return lst"
   ]
  },
  {
   "cell_type": "code",
   "execution_count": 137,
   "metadata": {
    "ExecuteTime": {
     "end_time": "2022-01-08T11:56:16.687578Z",
     "start_time": "2022-01-08T11:56:16.681519Z"
    }
   },
   "outputs": [],
   "source": [
    "import warnings\n",
    "warnings.filterwarnings(action='ignore')"
   ]
  },
  {
   "cell_type": "code",
   "execution_count": 138,
   "metadata": {
    "ExecuteTime": {
     "end_time": "2022-01-08T11:56:16.697486Z",
     "start_time": "2022-01-08T11:56:16.688965Z"
    }
   },
   "outputs": [],
   "source": [
    "import pandas as pd\n",
    "from tensorflow.keras import utils\n",
    "import numpy as np\n",
    "\n",
    "bad_data = pd.read_csv('Badmintain.csv')\n",
    "\n",
    "Bad_X = bad_data.values[:,:21]\n",
    "Bad_noh_y = bad_data.values[:,21]\n",
    "\n",
    "Bad_y = []\n",
    "for i in Bad_noh_y:\n",
    "    if i < 137*0.3:\n",
    "        Bad_y.append(0)\n",
    "    elif i < 137*0.6:\n",
    "        Bad_y.append(1)\n",
    "    else:\n",
    "        Bad_y.append(2)\n",
    "\n",
    "Bad_noh_y = np.array(Bad_y)\n",
    "Bad_y = utils.to_categorical(Bad_y, 3)"
   ]
  },
  {
   "cell_type": "code",
   "execution_count": 139,
   "metadata": {
    "ExecuteTime": {
     "end_time": "2022-01-08T11:56:16.704326Z",
     "start_time": "2022-01-08T11:56:16.698885Z"
    }
   },
   "outputs": [],
   "source": [
    "from sklearn.model_selection import train_test_split\n",
    "\n",
    "Bad_X_train, Bad_X_test, Bad_y_train, Bad_y_test = train_test_split(Bad_X, Bad_y, stratify=Bad_y, test_size=0.2, random_state=1004)\n",
    "Bad_nX_train, Bad_nX_test, Bad_ny_train, Bad_ny_test = train_test_split(Bad_X, Bad_noh_y, stratify=Bad_noh_y, test_size=0.2, random_state=1004)"
   ]
  },
  {
   "cell_type": "code",
   "execution_count": 140,
   "metadata": {
    "ExecuteTime": {
     "end_time": "2022-01-08T12:04:35.347206Z",
     "start_time": "2022-01-08T11:56:16.705306Z"
    }
   },
   "outputs": [
    {
     "name": "stdout",
     "output_type": "stream",
     "text": [
      "{'max_depth': 8, 'min_samples_leaf': 2, 'min_samples_split': 2, 'n_estimators': 100}\n",
      "0.7000000000000001\n",
      "0.6\n",
      "{'learning_rate': 0.7000000000000001, 'max_depth': 8, 'min_samples_leaf': 2, 'min_samples_split': 2, 'n_estimators': 140}\n",
      "0.7000000000000001\n",
      "0.5666666666666667\n",
      "{'learning_rate': 0.7000000000000001, 'n_estimators': 70}\n",
      "0.6916666666666668\n",
      "0.7\n"
     ]
    }
   ],
   "source": [
    "from sklearn.ensemble import RandomForestClassifier\n",
    "\n",
    "Bad_dt = RandomForestClassifier(random_state=0, n_jobs= -1)\n",
    "Bad_dt_result = Grid_cv2(Bad_dt, dt_params, Bad_nX_train, Bad_ny_train)\n",
    "\n",
    "print(Bad_dt_result.best_params_)\n",
    "print(Bad_dt_result.best_score_)\n",
    "print(Bad_dt_result.score(Bad_nX_test, Bad_ny_test))\n",
    "\n",
    "from sklearn.ensemble import GradientBoostingClassifier\n",
    "\n",
    "Bad_gb = GradientBoostingClassifier(random_state=0)\n",
    "Bad_gb_result = Grid_cv2(Bad_gb, gb_params, Bad_nX_train, Bad_ny_train)\n",
    "\n",
    "print(Bad_gb_result.best_params_)\n",
    "print(Bad_gb_result.best_score_)\n",
    "print(Bad_gb_result.score(Bad_nX_test, Bad_ny_test))\n",
    "\n",
    "from sklearn.ensemble import AdaBoostClassifier\n",
    "\n",
    "Bad_ab = AdaBoostClassifier(random_state=0)\n",
    "Bad_ab_result = Grid_cv2(Bad_ab, ab_params, Bad_nX_train, Bad_ny_train)\n",
    "\n",
    "print(Bad_ab_result.best_params_)\n",
    "print(Bad_ab_result.best_score_)\n",
    "print(Bad_ab_result.score(Bad_nX_test, Bad_ny_test))"
   ]
  },
  {
   "cell_type": "code",
   "execution_count": 141,
   "metadata": {
    "ExecuteTime": {
     "end_time": "2022-01-08T12:04:36.375857Z",
     "start_time": "2022-01-08T12:04:35.348627Z"
    }
   },
   "outputs": [
    {
     "data": {
      "image/png": "[encoded data removed]",
      "text/plain": [
       "<Figure size 432x288 with 1 Axes>"
      ]
     },
     "metadata": {
      "needs_background": "light"
     },
     "output_type": "display_data"
    },
    {
     "data": {
      "image/png": "[encoded data removed]",
      "text/plain": [
       "<Figure size 432x288 with 1 Axes>"
      ]
     },
     "metadata": {
      "needs_background": "light"
     },
     "output_type": "display_data"
    },
    {
     "data": {
      "image/png": "[encoded data removed]",
      "text/plain": [
       "<Figure size 432x288 with 1 Axes>"
      ]
     },
     "metadata": {
      "needs_background": "light"
     },
     "output_type": "display_data"
    }
   ],
   "source": [
    "# 최적의 매개변수를 바탕으로 모델 학습\n",
    "Bad_best_dt = RandomForestClassifier(random_state=0, n_jobs= -1)\n",
    "Bad_best_dt.fit(Bad_X,Bad_y)\n",
    "\n",
    "# 학습 후 그래프 출력\n",
    "sorting_plt2(Bad_best_dt.feature_importances_)\n",
    "\n",
    "# 최적의 매개변수를 바탕으로 모델 학습\n",
    "Bad_best_gb = GradientBoostingClassifier(random_state=0)\n",
    "Bad_best_gb.fit(Bad_X, Bad_noh_y)\n",
    "\n",
    "# 학습 후 그래프 출력\n",
    "sorting_plt2(Bad_best_gb.feature_importances_)\n",
    "\n",
    "# 최적의 매개변수를 바탕으로 모델 학습\n",
    "Bad_best_ab = AdaBoostClassifier(random_state=0)\n",
    "Bad_best_ab.fit(Bad_X, Bad_noh_y)\n",
    "\n",
    "# 학습 후 그래프 출력\n",
    "sorting_plt2(Bad_best_ab.feature_importances_)"
   ]
  },
  {
   "cell_type": "code",
   "execution_count": 142,
   "metadata": {
    "ExecuteTime": {
     "end_time": "2022-01-08T12:04:36.616177Z",
     "start_time": "2022-01-08T12:04:36.377075Z"
    }
   },
   "outputs": [],
   "source": [
    "Bad_df_dt = pd.DataFrame(Bad_dt_result.cv_results_)\n",
    "Bad_df_dt['model'] = \"RandomForest\"\n",
    "\n",
    "Bad_df_gb = pd.DataFrame(Bad_gb_result.cv_results_)\n",
    "Bad_df_gb['model'] = \"GradientBoosting\"\n",
    "\n",
    "Bad_df_ab = pd.DataFrame(Bad_ab_result.cv_results_)\n",
    "Bad_df_ab['model'] = \"AdaBoost\"\n",
    "\n",
    "Bad_weight_dt = pd.DataFrame(valuesort2(Bad_best_dt.feature_importances_), columns=['weight','title'])\n",
    "Bad_weight_gb = pd.DataFrame(valuesort2(Bad_best_gb.feature_importances_), columns=['weight','title'])\n",
    "Bad_weight_ab = pd.DataFrame(valuesort2(Bad_best_ab.feature_importances_), columns=['weight','title'])\n",
    "\n",
    "Bad_weight_dt[['title','weight']].to_csv('Bad_RandomForest_Weight.csv', index=0, encoding='utf-8-sig')\n",
    "Bad_weight_gb[['title','weight']].to_csv('Bad_GradientBoosting_Weight.csv', index=0, encoding='utf-8-sig')\n",
    "Bad_weight_ab[['title','weight']].to_csv('Bad_AdaBoost_Weight.csv', index=0, encoding='utf-8-sig')\n",
    "\n",
    "Bad_df_1 = pd.concat([Bad_df_dt, Bad_df_gb])\n",
    "Bad_df_2 = pd.concat([Bad_df_1, Bad_df_ab])\n",
    "\n",
    "Bad_df_3 = pd.DataFrame()\n",
    "Bad_df_3['model'] = Bad_df_2['model']\n",
    "Bad_df_3['score'] = Bad_df_2['mean_test_score']\n",
    "Bad_df_3['params'] = Bad_df_2['params']\n",
    "\n",
    "Bad_df_3.to_csv('Bad_Model_Score.csv', index=0)"
   ]
  },
  {
   "cell_type": "code",
   "execution_count": null,
   "metadata": {},
   "outputs": [],
   "source": []
  }
 ],
 "metadata": {
  "hide_input": false,
  "interpreter": {
   "hash": "b2a908de2e63cef092b4c03a3d6fd8a528dc783c2259b39b3e2e9299e7de2526"
  },
  "kernelspec": {
   "display_name": "Python 3 (ipykernel)",
   "language": "python",
   "name": "python3"
  },
  "language_info": {
   "codemirror_mode": {
    "name": "ipython",
    "version": 3
   },
   "file_extension": ".py",
   "mimetype": "text/x-python",
   "name": "python",
   "nbconvert_exporter": "python",
   "pygments_lexer": "ipython3",
   "version": "3.9.7"
  },
  "varInspector": {
   "cols": {
    "lenName": 16,
    "lenType": 16,
    "lenVar": 40
   },
   "kernels_config": {
    "python": {
     "delete_cmd_postfix": "",
     "delete_cmd_prefix": "del ",
     "library": "var_list.py",
     "varRefreshCmd": "print(var_dic_list())"
    },
    "r": {
     "delete_cmd_postfix": ") ",
     "delete_cmd_prefix": "rm(",
     "library": "var_list.r",
     "varRefreshCmd": "cat(var_dic_list()) "
    }
   },
   "types_to_exclude": [
    "module",
    "function",
    "builtin_function_or_method",
    "instance",
    "_Feature"
   ],
   "window_display": false
  }
 },
 "nbformat": 4,
 "nbformat_minor": 2
}
