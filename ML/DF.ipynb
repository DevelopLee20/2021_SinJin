{
    "cells": [
        {
            "cell_type": "code",
            "execution_count": 1,
            "source": [
                "import pandas as pd\r\n",
                "from PageRank import *\r\n",
                "\r\n",
                "# Data1 = pd.read_excel('C:/Users/dldls/Desktop/vscoding/JoNel/Project_JoNel/ML/DreamTree.xlsx', sheet_name='2020_남고')\r\n",
                "Data1 = pd.read_csv('C:/Users/cslab/Desktop/vscoding/Project_JoNel/ML/match_scores_Lee.csv')\r\n",
                "Data1_DF = pd.DataFrame(Data1)\r\n",
                "\r\n",
                "# a = list(Data1_DF['WINNER'])\r\n",
                "# b = list(Data1_DF['LOSER'])\r\n",
                "a = list(Data1_DF['winner_player_id'])\r\n",
                "b = list(Data1_DF['loser_player_id'])\r\n",
                "\r\n",
                "c = PageRank(a,b)\r\n",
                "\r\n",
                "df = c.makeMap()\r\n",
                "c.tocsv()\r\n",
                "c.tocsv_df()"
            ],
            "outputs": [
                {
                    "output_type": "stream",
                    "name": "stderr",
                    "text": [
                        "c:\\Users\\cslab\\Desktop\\vscoding\\Project_JoNel\\ML\\PageRank.py:40: SettingWithCopyWarning: \n",
                        "A value is trying to be set on a copy of a slice from a DataFrame\n",
                        "\n",
                        "See the caveats in the documentation: https://pandas.pydata.org/pandas-docs/stable/user_guide/indexing.html#returning-a-view-versus-a-copy\n",
                        "  self.df[j][idx1] += 1\n",
                        "c:\\Users\\cslab\\Desktop\\vscoding\\Project_JoNel\\ML\\PageRank.py:41: SettingWithCopyWarning: \n",
                        "A value is trying to be set on a copy of a slice from a DataFrame\n",
                        "\n",
                        "See the caveats in the documentation: https://pandas.pydata.org/pandas-docs/stable/user_guide/indexing.html#returning-a-view-versus-a-copy\n",
                        "  self.df['node'][idx2] += 1.0\n"
                    ]
                }
            ],
            "metadata": {}
        }
    ],
    "metadata": {
        "orig_nbformat": 4,
        "language_info": {
            "name": "python",
            "version": "3.9.6",
            "mimetype": "text/x-python",
            "codemirror_mode": {
                "name": "ipython",
                "version": 3
            },
            "pygments_lexer": "ipython3",
            "nbconvert_exporter": "python",
            "file_extension": ".py"
        },
        "kernelspec": {
            "name": "python3",
            "display_name": "Python 3.9.6 64-bit"
        },
        "interpreter": {
            "hash": "d54bb5494ef5283f3bb9da334a12126f2e168d7022622466af04c6570fd1119d"
        }
    },
    "nbformat": 4,
    "nbformat_minor": 2
}