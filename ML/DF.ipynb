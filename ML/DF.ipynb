{
    "cells": [
        {
            "cell_type": "code",
            "execution_count": 8,
            "source": [
                "import pandas as pd\r\n",
                "from PageRank import *\r\n",
                "\r\n",
                "Data1 = pd.read_csv('testdata.csv')\r\n",
                "Data1_DF = pd.DataFrame(Data1)\r\n",
                "\r\n",
                "a = list(Data1_DF['Win'])\r\n",
                "b = list(Data1_DF['Lose'])\r\n",
                "\r\n",
                "c = PageRank(a,b)\r\n",
                "\r\n",
                "df = c.makeMap()\r\n",
                "df.sum(axis=0)"
            ],
            "outputs": [],
            "metadata": {}
        }
    ],
    "metadata": {
        "orig_nbformat": 4,
        "language_info": {
            "name": "python",
            "version": "3.9.1",
            "mimetype": "text/x-python",
            "codemirror_mode": {
                "name": "ipython",
                "version": 3
            },
            "pygments_lexer": "ipython3",
            "nbconvert_exporter": "python",
            "file_extension": ".py"
        },
        "kernelspec": {
            "name": "python3",
            "display_name": "Python 3.9.1 64-bit"
        },
        "interpreter": {
            "hash": "b2a908de2e63cef092b4c03a3d6fd8a528dc783c2259b39b3e2e9299e7de2526"
        }
    },
    "nbformat": 4,
    "nbformat_minor": 2
}