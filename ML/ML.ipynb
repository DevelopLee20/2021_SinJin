{
    "cells": [
        {
            "cell_type": "code",
            "execution_count": 1,
            "source": [
                "from tensorflow.keras.models import Sequential\r\n",
                "from tensorflow.keras.layers import Dense\r\n",
                "import numpy as np\r\n",
                "import tensorflow as tf"
            ],
            "outputs": [],
            "metadata": {}
        },
        {
            "cell_type": "code",
            "execution_count": null,
            "source": [
                "Dataset = np.loadtxt('match_scores_1991-2016.csv', delimiter=',')"
            ],
            "outputs": [],
            "metadata": {}
        }
    ],
    "metadata": {
        "orig_nbformat": 4,
        "language_info": {
            "name": "python",
            "version": "3.9.1",
            "mimetype": "text/x-python",
            "codemirror_mode": {
                "name": "ipython",
                "version": 3
            },
            "pygments_lexer": "ipython3",
            "nbconvert_exporter": "python",
            "file_extension": ".py"
        },
        "kernelspec": {
            "name": "python3",
            "display_name": "Python 3.9.1 64-bit"
        },
        "interpreter": {
            "hash": "b2a908de2e63cef092b4c03a3d6fd8a528dc783c2259b39b3e2e9299e7de2526"
        }
    },
    "nbformat": 4,
    "nbformat_minor": 2
}