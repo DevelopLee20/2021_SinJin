{
 "cells": [
  {
   "cell_type": "code",
   "execution_count": 126,
   "metadata": {},
   "outputs": [],
   "source": [
    "# 데이터 정리 구간\n",
    "import pandas as pd\n",
    "from tensorflow.keras import utils\n",
    "from sklearn.model_selection import train_test_split\n",
    "\n",
    "csv = pd.read_csv('data.csv')\n",
    "\n",
    "X = csv.values[:,:18]\n",
    "noh_y = csv.values[:,18]\n",
    "\n",
    "y = utils.to_categorical(noh_y, 2)\n",
    "\n",
    "X_train, X_test, y_train, y_test = train_test_split(X, y, stratify=y, test_size=0.3, random_state=1004)\n",
    "nX_train, nX_test, ny_train, ny_test = train_test_split(X, noh_y, stratify=y, test_size=0.3, random_state=1004)"
   ]
  },
  {
   "cell_type": "code",
   "execution_count": 127,
   "metadata": {},
   "outputs": [],
   "source": [
    "# 정렬 후 그래프 출력\n",
    "import matplotlib.pyplot as plt\n",
    "\n",
    "def sorting_plt(values):\n",
    "    keys = csv.columns[:-1]\n",
    "    lst = {}\n",
    "    for i,j in zip(keys,values):\n",
    "        lst[j] = i\n",
    "    \n",
    "    lst = sorted(lst.items(), reverse=0)\n",
    "    \n",
    "    plt.barh([i[1] for i in lst], [i[0] for i in lst])\n",
    "    plt.show()"
   ]
  },
  {
   "cell_type": "code",
   "execution_count": 135,
   "metadata": {},
   "outputs": [],
   "source": [
    "# 그리디 서치 알고리즘 실행 구간, 주석처럼 매개변수 입력\n",
    "from sklearn.model_selection import GridSearchCV\n",
    "\n",
    "def Grid_cv(model, params, X, y):\n",
    "    grid_cv = GridSearchCV(model, param_grid=params, cv=3, n_jobs= -1)\n",
    "    grid_cv.fit(X,y)\n",
    "    return grid_cv\n",
    "\n",
    "# params = { 'n_estimators' : [10, 100],\n",
    "#            'max_depth' : [6, 8, 10, 12],\n",
    "#            'min_samples_leaf' : [8, 12, 18],\n",
    "#            'min_samples_split' : [8, 16, 20]\n",
    "#         }"
   ]
  },
  {
   "cell_type": "markdown",
   "metadata": {},
   "source": [
    "의사결정 나무 Decision Tree<br>\n",
    "https://scikit-learn.org/stable/modules/generated/sklearn.ensemble.RandomForestClassifier.html"
   ]
  },
  {
   "cell_type": "code",
   "execution_count": 129,
   "metadata": {},
   "outputs": [
    {
     "name": "stdout",
     "output_type": "stream",
     "text": [
      "{'max_depth': 6, 'min_samples_leaf': 8, 'min_samples_split': 8, 'n_estimators': 10}\n",
      "0.9226814268142681\n",
      "0.9076996652319465\n"
     ]
    },
    {
     "data": {
      "text/html": [
       "<div>\n",
       "<style scoped>\n",
       "    .dataframe tbody tr th:only-of-type {\n",
       "        vertical-align: middle;\n",
       "    }\n",
       "\n",
       "    .dataframe tbody tr th {\n",
       "        vertical-align: top;\n",
       "    }\n",
       "\n",
       "    .dataframe thead th {\n",
       "        text-align: right;\n",
       "    }\n",
       "</style>\n",
       "<table border=\"1\" class=\"dataframe\">\n",
       "  <thead>\n",
       "    <tr style=\"text-align: right;\">\n",
       "      <th></th>\n",
       "      <th>mean_fit_time</th>\n",
       "      <th>std_fit_time</th>\n",
       "      <th>mean_score_time</th>\n",
       "      <th>std_score_time</th>\n",
       "      <th>param_max_depth</th>\n",
       "      <th>param_min_samples_leaf</th>\n",
       "      <th>param_min_samples_split</th>\n",
       "      <th>param_n_estimators</th>\n",
       "      <th>params</th>\n",
       "      <th>split0_test_score</th>\n",
       "      <th>split1_test_score</th>\n",
       "      <th>split2_test_score</th>\n",
       "      <th>mean_test_score</th>\n",
       "      <th>std_test_score</th>\n",
       "      <th>rank_test_score</th>\n",
       "    </tr>\n",
       "  </thead>\n",
       "  <tbody>\n",
       "    <tr>\n",
       "      <th>0</th>\n",
       "      <td>0.065478</td>\n",
       "      <td>0.001698</td>\n",
       "      <td>0.020614</td>\n",
       "      <td>0.002352</td>\n",
       "      <td>6</td>\n",
       "      <td>8</td>\n",
       "      <td>8</td>\n",
       "      <td>10</td>\n",
       "      <td>{'max_depth': 6, 'min_samples_leaf': 8, 'min_s...</td>\n",
       "      <td>0.928044</td>\n",
       "      <td>0.915692</td>\n",
       "      <td>0.924308</td>\n",
       "      <td>0.922681</td>\n",
       "      <td>0.005172</td>\n",
       "      <td>1</td>\n",
       "    </tr>\n",
       "  </tbody>\n",
       "</table>\n",
       "</div>"
      ],
      "text/plain": [
       "   mean_fit_time  std_fit_time  mean_score_time  std_score_time  \\\n",
       "0       0.065478      0.001698         0.020614        0.002352   \n",
       "\n",
       "  param_max_depth param_min_samples_leaf param_min_samples_split  \\\n",
       "0               6                      8                       8   \n",
       "\n",
       "  param_n_estimators                                             params  \\\n",
       "0                 10  {'max_depth': 6, 'min_samples_leaf': 8, 'min_s...   \n",
       "\n",
       "   split0_test_score  split1_test_score  split2_test_score  mean_test_score  \\\n",
       "0           0.928044           0.915692           0.924308         0.922681   \n",
       "\n",
       "   std_test_score  rank_test_score  \n",
       "0        0.005172                1  "
      ]
     },
     "execution_count": 129,
     "metadata": {},
     "output_type": "execute_result"
    }
   ],
   "source": [
    "from sklearn.ensemble import RandomForestClassifier\n",
    "\n",
    "# 매개변수 설정\n",
    "dt_params = {\n",
    "    'n_estimators' : [10],\n",
    "    'max_depth' : [6],\n",
    "    'min_samples_split' : [8],\n",
    "    'min_samples_leaf' : [8]\n",
    "}\n",
    "\n",
    "# 그리디 알고리즘으로 최적의 매개변수 찾기\n",
    "dt = RandomForestClassifier(random_state=0, n_jobs= -1)\n",
    "dt_result = Grid_cv(dt, dt_params, X_train, y_train)\n",
    "\n",
    "# 찾은 매개변수와 스코어 출력\n",
    "print(dt_result.best_params_)\n",
    "print(dt_result.best_score_)\n",
    "print(dt_result.score(X_test, y_test))\n",
    "pd.DataFrame(dt_result.cv_results_)"
   ]
  },
  {
   "cell_type": "code",
   "execution_count": 130,
   "metadata": {},
   "outputs": [
    {
     "data": {
      "image/png": "[encoded data removed]",
      "text/plain": [
       "<Figure size 432x288 with 1 Axes>"
      ]
     },
     "metadata": {
      "needs_background": "light"
     },
     "output_type": "display_data"
    }
   ],
   "source": [
    "# 최적의 매개변수를 바탕으로 모델 학습\n",
    "best_dt = RandomForestClassifier(random_state=0, n_jobs= -1)\n",
    "best_dt.fit(X,y)\n",
    "\n",
    "# 학습 후 그래프 출력\n",
    "sorting_plt(best_dt.feature_importances_)"
   ]
  },
  {
   "cell_type": "markdown",
   "metadata": {},
   "source": [
    "그래디언트 부스팅 Gradient Boosting<br>\n",
    "https://scikit-learn.org/stable/modules/generated/sklearn.ensemble.GradientBoostingClassifier.html"
   ]
  },
  {
   "cell_type": "code",
   "execution_count": 131,
   "metadata": {},
   "outputs": [
    {
     "name": "stdout",
     "output_type": "stream",
     "text": [
      "{'learning_rate': 0.01, 'max_depth': 6, 'min_samples_leaf': 8, 'min_samples_split': 8, 'n_estimators': 10}\n",
      "0.9130439335162582\n",
      "0.8947871831659493\n"
     ]
    },
    {
     "data": {
      "text/html": [
       "<div>\n",
       "<style scoped>\n",
       "    .dataframe tbody tr th:only-of-type {\n",
       "        vertical-align: middle;\n",
       "    }\n",
       "\n",
       "    .dataframe tbody tr th {\n",
       "        vertical-align: top;\n",
       "    }\n",
       "\n",
       "    .dataframe thead th {\n",
       "        text-align: right;\n",
       "    }\n",
       "</style>\n",
       "<table border=\"1\" class=\"dataframe\">\n",
       "  <thead>\n",
       "    <tr style=\"text-align: right;\">\n",
       "      <th></th>\n",
       "      <th>mean_fit_time</th>\n",
       "      <th>std_fit_time</th>\n",
       "      <th>mean_score_time</th>\n",
       "      <th>std_score_time</th>\n",
       "      <th>param_learning_rate</th>\n",
       "      <th>param_max_depth</th>\n",
       "      <th>param_min_samples_leaf</th>\n",
       "      <th>param_min_samples_split</th>\n",
       "      <th>param_n_estimators</th>\n",
       "      <th>params</th>\n",
       "      <th>split0_test_score</th>\n",
       "      <th>split1_test_score</th>\n",
       "      <th>split2_test_score</th>\n",
       "      <th>mean_test_score</th>\n",
       "      <th>std_test_score</th>\n",
       "      <th>rank_test_score</th>\n",
       "    </tr>\n",
       "  </thead>\n",
       "  <tbody>\n",
       "    <tr>\n",
       "      <th>0</th>\n",
       "      <td>0.171892</td>\n",
       "      <td>0.002443</td>\n",
       "      <td>0.0</td>\n",
       "      <td>0.0</td>\n",
       "      <td>0.01</td>\n",
       "      <td>6</td>\n",
       "      <td>8</td>\n",
       "      <td>8</td>\n",
       "      <td>10</td>\n",
       "      <td>{'learning_rate': 0.01, 'max_depth': 6, 'min_s...</td>\n",
       "      <td>0.910824</td>\n",
       "      <td>0.910154</td>\n",
       "      <td>0.918154</td>\n",
       "      <td>0.913044</td>\n",
       "      <td>0.003624</td>\n",
       "      <td>1</td>\n",
       "    </tr>\n",
       "  </tbody>\n",
       "</table>\n",
       "</div>"
      ],
      "text/plain": [
       "   mean_fit_time  std_fit_time  mean_score_time  std_score_time  \\\n",
       "0       0.171892      0.002443              0.0             0.0   \n",
       "\n",
       "  param_learning_rate param_max_depth param_min_samples_leaf  \\\n",
       "0                0.01               6                      8   \n",
       "\n",
       "  param_min_samples_split param_n_estimators  \\\n",
       "0                       8                 10   \n",
       "\n",
       "                                              params  split0_test_score  \\\n",
       "0  {'learning_rate': 0.01, 'max_depth': 6, 'min_s...           0.910824   \n",
       "\n",
       "   split1_test_score  split2_test_score  mean_test_score  std_test_score  \\\n",
       "0           0.910154           0.918154         0.913044        0.003624   \n",
       "\n",
       "   rank_test_score  \n",
       "0                1  "
      ]
     },
     "execution_count": 131,
     "metadata": {},
     "output_type": "execute_result"
    }
   ],
   "source": [
    "from sklearn.ensemble import GradientBoostingClassifier\n",
    "\n",
    "# 매개변수 설정\n",
    "gb_params = {\n",
    "    'learning_rate' : [0.01],\n",
    "    'n_estimators' : [10],\n",
    "    'min_samples_split' : [8],\n",
    "    'min_samples_leaf' : [8],\n",
    "    'max_depth' : [6]\n",
    "}\n",
    "\n",
    "# 그리디 알고리즘으로 최적의 매개변수 찾기\n",
    "gb = GradientBoostingClassifier(random_state=0)\n",
    "gb_result = Grid_cv(gb, gb_params, nX_train, ny_train)\n",
    "\n",
    "# 찾은 매개변수와 스코어 출력\n",
    "print(gb_result.best_params_)\n",
    "print(gb_result.best_score_)\n",
    "print(gb_result.score(nX_test, ny_test))\n",
    "pd.DataFrame(gb_result.cv_results_)"
   ]
  },
  {
   "cell_type": "code",
   "execution_count": 132,
   "metadata": {},
   "outputs": [
    {
     "data": {
      "image/png": "[encoded data removed]",
      "text/plain": [
       "<Figure size 432x288 with 1 Axes>"
      ]
     },
     "metadata": {
      "needs_background": "light"
     },
     "output_type": "display_data"
    }
   ],
   "source": [
    "# 최적의 매개변수를 바탕으로 모델 학습\n",
    "best_gb = GradientBoostingClassifier(random_state=0)\n",
    "best_gb.fit(X, noh_y)\n",
    "\n",
    "# 학습 후 그래프 출력\n",
    "sorting_plt(best_gb.feature_importances_)"
   ]
  },
  {
   "cell_type": "markdown",
   "metadata": {},
   "source": [
    "에이다부스트 AdaBoost<br>\n",
    "https://scikit-learn.org/stable/modules/generated/sklearn.ensemble.AdaBoostClassifier.html#sklearn.ensemble.AdaBoostClassifier"
   ]
  },
  {
   "cell_type": "code",
   "execution_count": 133,
   "metadata": {},
   "outputs": [
    {
     "name": "stdout",
     "output_type": "stream",
     "text": [
      "{'learning_rate': 1.0, 'n_estimators': 10}\n",
      "0.9128379222253762\n",
      "0.8914395026303205\n"
     ]
    },
    {
     "data": {
      "text/html": [
       "<div>\n",
       "<style scoped>\n",
       "    .dataframe tbody tr th:only-of-type {\n",
       "        vertical-align: middle;\n",
       "    }\n",
       "\n",
       "    .dataframe tbody tr th {\n",
       "        vertical-align: top;\n",
       "    }\n",
       "\n",
       "    .dataframe thead th {\n",
       "        text-align: right;\n",
       "    }\n",
       "</style>\n",
       "<table border=\"1\" class=\"dataframe\">\n",
       "  <thead>\n",
       "    <tr style=\"text-align: right;\">\n",
       "      <th></th>\n",
       "      <th>mean_fit_time</th>\n",
       "      <th>std_fit_time</th>\n",
       "      <th>mean_score_time</th>\n",
       "      <th>std_score_time</th>\n",
       "      <th>param_learning_rate</th>\n",
       "      <th>param_n_estimators</th>\n",
       "      <th>params</th>\n",
       "      <th>split0_test_score</th>\n",
       "      <th>split1_test_score</th>\n",
       "      <th>split2_test_score</th>\n",
       "      <th>mean_test_score</th>\n",
       "      <th>std_test_score</th>\n",
       "      <th>rank_test_score</th>\n",
       "    </tr>\n",
       "  </thead>\n",
       "  <tbody>\n",
       "    <tr>\n",
       "      <th>0</th>\n",
       "      <td>0.078792</td>\n",
       "      <td>0.003741</td>\n",
       "      <td>0.00797</td>\n",
       "      <td>0.001398</td>\n",
       "      <td>1.0</td>\n",
       "      <td>10</td>\n",
       "      <td>{'learning_rate': 1.0, 'n_estimators': 10}</td>\n",
       "      <td>0.915129</td>\n",
       "      <td>0.909538</td>\n",
       "      <td>0.913846</td>\n",
       "      <td>0.912838</td>\n",
       "      <td>0.002391</td>\n",
       "      <td>1</td>\n",
       "    </tr>\n",
       "  </tbody>\n",
       "</table>\n",
       "</div>"
      ],
      "text/plain": [
       "   mean_fit_time  std_fit_time  mean_score_time  std_score_time  \\\n",
       "0       0.078792      0.003741          0.00797        0.001398   \n",
       "\n",
       "  param_learning_rate param_n_estimators  \\\n",
       "0                 1.0                 10   \n",
       "\n",
       "                                       params  split0_test_score  \\\n",
       "0  {'learning_rate': 1.0, 'n_estimators': 10}           0.915129   \n",
       "\n",
       "   split1_test_score  split2_test_score  mean_test_score  std_test_score  \\\n",
       "0           0.909538           0.913846         0.912838        0.002391   \n",
       "\n",
       "   rank_test_score  \n",
       "0                1  "
      ]
     },
     "execution_count": 133,
     "metadata": {},
     "output_type": "execute_result"
    }
   ],
   "source": [
    "from sklearn.ensemble import AdaBoostClassifier\n",
    "\n",
    "# 매개변수 설정\n",
    "ab_params = {\n",
    "    'n_estimators' : [10],\n",
    "    'learning_rate' : [1.0]\n",
    "}\n",
    "\n",
    "# 그리디 알고리즘으로 최적의 매개변수 찾기\n",
    "ab = AdaBoostClassifier(random_state=0)\n",
    "ab_result = Grid_cv(ab, ab_params, nX_train, ny_train)\n",
    "\n",
    "# 찾은 매개변수와 스코어 출력\n",
    "print(ab_result.best_params_)\n",
    "print(ab_result.best_score_)\n",
    "print(ab_result.score(nX_test, ny_test))\n",
    "pd.DataFrame(ab_result.cv_results_)"
   ]
  },
  {
   "cell_type": "code",
   "execution_count": 134,
   "metadata": {},
   "outputs": [
    {
     "data": {
      "image/png": "[encoded data removed]",
      "text/plain": [
       "<Figure size 432x288 with 1 Axes>"
      ]
     },
     "metadata": {
      "needs_background": "light"
     },
     "output_type": "display_data"
    }
   ],
   "source": [
    "# 최적의 매개변수를 바탕으로 모델 학습\n",
    "best_gb = AdaBoostClassifier(random_state=0)\n",
    "best_gb.fit(X, noh_y)\n",
    "\n",
    "# 학습 후 그래프 출력\n",
    "sorting_plt(best_gb.feature_importances_)"
   ]
  }
 ],
 "metadata": {
  "interpreter": {
   "hash": "b2a908de2e63cef092b4c03a3d6fd8a528dc783c2259b39b3e2e9299e7de2526"
  },
  "kernelspec": {
   "display_name": "Python 3.9.9 64-bit",
   "language": "python",
   "name": "python3"
  },
  "language_info": {
   "codemirror_mode": {
    "name": "ipython",
    "version": 3
   },
   "file_extension": ".py",
   "mimetype": "text/x-python",
   "name": "python",
   "nbconvert_exporter": "python",
   "pygments_lexer": "ipython3",
   "version": "3.9.9"
  },
  "orig_nbformat": 4
 },
 "nbformat": 4,
 "nbformat_minor": 2
}
