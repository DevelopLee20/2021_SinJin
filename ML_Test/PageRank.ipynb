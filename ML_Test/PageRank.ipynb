{
    "cells": [
        {
            "cell_type": "code",
            "execution_count": 171,
            "source": [
                "import numpy as np\r\n",
                "import pandas as pd\r\n",
                "\r\n",
                "class PageRank:\r\n",
                "    def __init__(self, result):\r\n",
                "        self.result = result\r\n",
                "        self.players = []\r\n",
                "        self.df = pd.DataFrame()\r\n",
                "        self.damping_factor = 0.85\r\n",
                "\r\n",
                "        for i,j in self.result:\r\n",
                "            if i not in self.players:\r\n",
                "                self.players.append(i)\r\n",
                "            if j not in self.players:\r\n",
                "                self.players.append(j)\r\n",
                "\r\n",
                "        self.n = len(self.players)\r\n",
                "        self.initial = 1.000000 / self.n\r\n",
                "\r\n",
                "    def makeMap(self):\r\n",
                "        \r\n",
                "        self.df['player'] = self.players\r\n",
                "        \r\n",
                "        for i in self.players:\r\n",
                "            self.df[i] = 0\r\n",
                "\r\n",
                "        self.df['node'] = 0.0\r\n",
                "\r\n",
                "        for i,j in self.result:\r\n",
                "            idx1 = self.df[self.df['player'] == i].index.tolist()\r\n",
                "            idx2 = self.df[self.df['player'] == j].index.tolist()\r\n",
                "            self.df[j][idx1] = 1\r\n",
                "            self.df['node'][idx2] += 1.0\r\n",
                "\r\n",
                "        self.df['div'] = self.initial / self.df['node']\r\n",
                "\r\n",
                "        ##### 수정하고 싶은데.... 더 깔끔하게\r\n",
                "        data = np.array(self.df)\r\n",
                "        lst = []\r\n",
                "\r\n",
                "        for i in range(0,self.n):\r\n",
                "            result = 0\r\n",
                "            if data[i][self.n+1] == 0:\r\n",
                "                result += self.initial # 정규화가 안되서 무패자 점수 추가\r\n",
                "            for j in range(1,self.n+1):\r\n",
                "                if i+1 == j:\r\n",
                "                    pass\r\n",
                "                if data[i][j] == 1:\r\n",
                "                    result += data[j-1][self.n+2]\r\n",
                "            pgrk = (1-self.damping_factor)/self.n + self.damping_factor*result\r\n",
                "            lst.append(pgrk)\r\n",
                "        #####\r\n",
                "\r\n",
                "        self.df['pagerank'] = lst\r\n",
                "\r\n",
                "        return self.df"
            ],
            "outputs": [],
            "metadata": {}
        },
        {
            "cell_type": "code",
            "execution_count": 173,
            "source": [
                "a = PageRank([['A','B'],['B','C'],['A','C'],['D','A']])\r\n",
                "df = a.makeMap()\r\n",
                "print(df)\r\n",
                "print(df.sum(axis=0))"
            ],
            "outputs": [
                {
                    "output_type": "stream",
                    "name": "stdout",
                    "text": [
                        "  player  A  B  C  D  node    div  pagerank\n",
                        "0      A  0  1  1  0   1.0  0.250   0.35625\n",
                        "1      B  0  0  1  0   1.0  0.250   0.14375\n",
                        "2      C  0  0  0  0   2.0  0.125   0.03750\n",
                        "3      D  1  0  0  0   0.0    inf   0.46250\n",
                        "player      ABCD\n",
                        "A              1\n",
                        "B              1\n",
                        "C              2\n",
                        "D              0\n",
                        "node         4.0\n",
                        "div          inf\n",
                        "pagerank     1.0\n",
                        "dtype: object\n"
                    ]
                },
                {
                    "output_type": "stream",
                    "name": "stderr",
                    "text": [
                        "<ipython-input-172-c65a51d52d58>:29: SettingWithCopyWarning: \n",
                        "A value is trying to be set on a copy of a slice from a DataFrame\n",
                        "\n",
                        "See the caveats in the documentation: https://pandas.pydata.org/pandas-docs/stable/user_guide/indexing.html#returning-a-view-versus-a-copy\n",
                        "  self.df[j][idx1] = 1\n",
                        "<ipython-input-172-c65a51d52d58>:30: SettingWithCopyWarning: \n",
                        "A value is trying to be set on a copy of a slice from a DataFrame\n",
                        "\n",
                        "See the caveats in the documentation: https://pandas.pydata.org/pandas-docs/stable/user_guide/indexing.html#returning-a-view-versus-a-copy\n",
                        "  self.df['node'][idx2] += 1.0\n"
                    ]
                }
            ],
            "metadata": {}
        }
    ],
    "metadata": {
        "orig_nbformat": 4,
        "language_info": {
            "name": "python",
            "version": "3.9.1",
            "mimetype": "text/x-python",
            "codemirror_mode": {
                "name": "ipython",
                "version": 3
            },
            "pygments_lexer": "ipython3",
            "nbconvert_exporter": "python",
            "file_extension": ".py"
        },
        "kernelspec": {
            "name": "python3",
            "display_name": "Python 3.9.1 64-bit"
        },
        "interpreter": {
            "hash": "b2a908de2e63cef092b4c03a3d6fd8a528dc783c2259b39b3e2e9299e7de2526"
        }
    },
    "nbformat": 4,
    "nbformat_minor": 2
}