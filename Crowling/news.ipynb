{
    "cells": [
        {
            "cell_type": "code",
            "execution_count": 2,
            "source": [
                "import requests\r\n",
                "import re"
            ],
            "outputs": [],
            "metadata": {}
        },
        {
            "cell_type": "code",
            "execution_count": 9,
            "source": [
                "def file_write(content):\r\n",
                "    f = open(\"test.txt\",'w',encoding='UTF-8')\r\n",
                "\r\n",
                "    if type(content) == list:\r\n",
                "        for i in content:\r\n",
                "            f.write(i)\r\n",
                "    else:\r\n",
                "        f.write(content)\r\n",
                "        \r\n",
                "    f.close()\r\n",
                "\r\n",
                "def url_open(content):\r\n",
                "    url = f'https://search.naver.com/search.naver?where=news&sm=tab_jum&query={content}'\r\n",
                "    crowling_content = requests.get(url)\r\n",
                "\r\n",
                "    return crowling_content.text"
            ],
            "outputs": [],
            "metadata": {}
        },
        {
            "cell_type": "code",
            "execution_count": 17,
            "source": [
                "# 완성 후 입력하게 변경\r\n",
                "search_content = '테니스'\r\n",
                "\r\n",
                "crowling_text = url_open(search_content)\r\n",
                "crowling_text = crowling_text.split('title=')\r\n",
                "crowling_text[2]"
            ],
            "outputs": [
                {
                    "output_type": "execute_result",
                    "data": {
                        "text/plain": [
                            "'\"[올림픽] 日스가, 프랑스 마크롱 등 7개국 정상급과 회담\">[올림픽] 日<mark>스</mark>가, 프랑<mark>스</mark> 마크롱 등 7개국 정상급과 회담</a> <div class=\"news_dsc\"> <div class=\"dsc_wrap\"> <a href=\"http://yna.kr/AKR20210724058500073?did=1195m\" class=\"api_txt_lines dsc_txt_wrap\" target=\"_blank\" onclick=\"return goOtherCR(this, \\'a=nws*a.body&r=1&i=880000D8_000000000000000012548470&g=001.0012548470&u=\\'+urlencode(this.href));\">특별취재단 = <mark>스</mark>가 요시히데(菅義偉) 일본 총리가 24일 에마뉘엘 마크롱 프랑<mark>스</mark> 대통령 등 도쿄올림픽을 계기로 일본을 방문한 7개국 정상급과 회담을 가졌다고 교도통신이 보도했다. 보도에 따르면 <mark>스</mark>가 총리와 마크롱...</a> </div></div></div><a href=\"http://yna.kr/AKR20210724058500073?did=1195m\" class=\"dsc_thumb \" target=\"_blank\" onclick=\"return goOtherCR(this, \\'a=nws*a.img&r=1&i=880000D8_000000000000000012548470&g=001.0012548470&u=\\'+urlencode(this.href));\"><img src=\"https://search.pstatic.net/common/?src=https%3A%2F%2Fimgnews.pstatic.net%2Fimage%2Forigin%2F001%2F2021%2F07%2F24%2F12548470.jpg&type=ff264_180&expire=2&refresh=true\" width=\"132\" height=\"90\" alt=\"[올림픽] 日스가, 프랑\" class=\"thumb api_get\" onerror=\"this.parentNode.style.display=\\'none\\';\"></a> </div><div class=\"news_cluster\"> <ul class=\"list_cluster\"> <li class=\"sub_bx\"> <span class=\"sub_wrap\"> <span class=\"sub_area\"> <cite class=\"sub_txt press\" '"
                        ]
                    },
                    "metadata": {},
                    "execution_count": 17
                }
            ],
            "metadata": {}
        },
        {
            "cell_type": "code",
            "execution_count": 5,
            "source": [
                "for text in crowling_text:\r\n",
                "    title = re.findall(r'title=\"+.+', text)\r\n",
                "    if len(title) > 0:\r\n",
                "        print(title)"
            ],
            "outputs": [],
            "metadata": {}
        }
    ],
    "metadata": {
        "orig_nbformat": 4,
        "language_info": {
            "name": "python",
            "version": "3.9.1",
            "mimetype": "text/x-python",
            "codemirror_mode": {
                "name": "ipython",
                "version": 3
            },
            "pygments_lexer": "ipython3",
            "nbconvert_exporter": "python",
            "file_extension": ".py"
        },
        "kernelspec": {
            "name": "python3",
            "display_name": "Python 3.9.1 64-bit"
        },
        "interpreter": {
            "hash": "b2a908de2e63cef092b4c03a3d6fd8a528dc783c2259b39b3e2e9299e7de2526"
        }
    },
    "nbformat": 4,
    "nbformat_minor": 2
}