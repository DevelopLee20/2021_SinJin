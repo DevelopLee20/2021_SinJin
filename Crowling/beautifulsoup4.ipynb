{
    "cells": [
        {
            "cell_type": "code",
            "execution_count": 78,
            "source": [
                "import requests\r\n",
                "from bs4 import BeautifulSoup\r\n",
                "from openpyxl import Workbook\r\n",
                "import os\r\n",
                "import datetime\r\n",
                "\r\n",
                "path = './result'\r\n",
                "months = [31,28,31,30,31,30,31,31,30,31,30,31]\r\n",
                "\r\n",
                "try:\r\n",
                "    os.mkdir(path)\r\n",
                "except FileExistsError:\r\n",
                "    pass\r\n",
                "\r\n",
                "# search_text = input(\"Enter the search content : \")\r\n",
                "search_text = '스포츠'\r\n",
                "# page = int(input(\"How many page : \"))\r\n",
                "\r\n",
                "url = f'https://search.naver.com/search.naver?where=news&sm=tab_pge&query={search_text}&start=1'\r\n",
                "\r\n",
                "content = requests.get(url)\r\n",
                "assert content.status_code == 200\r\n",
                "\r\n",
                "contents = BeautifulSoup(content.text, \"html.parser\")\r\n",
                "news_list = contents.find(\"div\",{\"class\":\"group_news\"})\r\n",
                "boxes = news_list.find_all(\"li\",{\"class\":\"bx\"})\r\n",
                "\r\n",
                "# 검색 시간 저장\r\n",
                "now = datetime.datetime.now()\r\n",
                "n_year = int(now.year); n_month = int(now.month); n_day = int(now.day); n_hour = int(now.hour)\r\n",
                "print(n_year, n_month, n_day, n_hour)\r\n",
                "\r\n",
                "for i in boxes:\r\n",
                "    year = n_year; month = n_month; day = n_day; hour = n_hour\r\n",
                "\r\n",
                "    tit = i.find(\"a\",{\"class\":\"news_tit\"})\r\n",
                "    title = tit.text\r\n",
                "    link = tit.get('href')\r\n",
                "    author = i.find(\"a\",{\"class\":\"info\"}).text\r\n",
                "    tm = i.find(\"span\",{\"class\":\"info\"})\r\n",
                "    tm = str(tm.text)\r\n",
                "    \r\n",
                "    if (tm.find(\"년\")+1):\r\n",
                "        year -= int(tm.split(\"년\")[0])\r\n",
                "    elif (tm.find(\"달\")+1):\r\n",
                "        month -= int(tm.split(\"달\")[0])\r\n",
                "    elif (tm.find(\"일\")+1):\r\n",
                "        day -= int(tm.split(\"일\")[0])\r\n",
                "    elif (tm.find(\"시\")+1):\r\n",
                "        hour -= int(tm.split(\"시\")[0])\r\n",
                "    else:\r\n",
                "        pass\r\n",
                "\r\n",
                "    if hour < 0:\r\n",
                "        day -= 1\r\n",
                "        hour = 24 + hour\r\n",
                "    elif day <= 0:\r\n",
                "        month -= 1\r\n",
                "        if month == 0:\r\n",
                "            year -= 1\r\n",
                "            month = 12\r\n",
                "            day = months[month-1] + day\r\n",
                "    elif month <= 0:\r\n",
                "        year -= 1\r\n",
                "        month = 12 + month\r\n",
                "\r\n",
                "    print(tm, year, month, day, hour)"
            ],
            "outputs": [
                {
                    "output_type": "stream",
                    "name": "stdout",
                    "text": [
                        "2021 8 5 5\n",
                        "6시간 전 2021 8 4 23\n",
                        "5시간 전 2021 8 5 0\n",
                        "15시간 전 2021 8 4 14\n",
                        "1일 전 2021 8 4 5\n",
                        "1일 전 2021 8 4 5\n",
                        "14시간 전 2021 8 4 15\n",
                        "15시간 전 2021 8 4 14\n",
                        "18시간 전 2021 8 4 11\n",
                        "22시간 전 2021 8 4 7\n",
                        "17시간 전 2021 8 4 12\n"
                    ]
                }
            ],
            "metadata": {}
        }
    ],
    "metadata": {
        "orig_nbformat": 4,
        "language_info": {
            "name": "python",
            "version": "3.9.1",
            "mimetype": "text/x-python",
            "codemirror_mode": {
                "name": "ipython",
                "version": 3
            },
            "pygments_lexer": "ipython3",
            "nbconvert_exporter": "python",
            "file_extension": ".py"
        },
        "kernelspec": {
            "name": "python3",
            "display_name": "Python 3.9.1 64-bit"
        },
        "interpreter": {
            "hash": "b2a908de2e63cef092b4c03a3d6fd8a528dc783c2259b39b3e2e9299e7de2526"
        }
    },
    "nbformat": 4,
    "nbformat_minor": 2
}