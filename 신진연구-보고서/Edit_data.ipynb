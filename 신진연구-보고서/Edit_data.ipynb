{
 "cells": [
  {
   "cell_type": "code",
   "execution_count": 18,
   "metadata": {},
   "outputs": [
    {
     "data": {
      "text/plain": [
       "Index(['sex', '신장', '상완', '하완', '대퇴', '하퇴', '최대상완', '최대전완', '최대대퇴', '최대하퇴',\n",
       "       '상완.1', '손목', '대퇴.1', '발목', '삼두근', '견갑골', '전완내측', '전완외측', '상장골', '대퇴.2',\n",
       "       '종아리', '체중', '랭킹'],\n",
       "      dtype='object')"
      ]
     },
     "execution_count": 18,
     "metadata": {},
     "output_type": "execute_result"
    }
   ],
   "source": [
    "import pandas as pd\n",
    "\n",
    "csv = pd.read_csv('bad_high.csv')\n",
    "\n",
    "new = pd.DataFrame()\n",
    "new['sex'] = csv['sex']\n",
    "new['신장'] = csv['신장']\n",
    "new['상완'] = csv['상완']\n",
    "new['하완'] = csv['하완']\n",
    "new['대퇴'] = csv['대퇴']\n",
    "new['하퇴'] = csv['하퇴']\n",
    "new['하퇴'] = csv['하퇴']\n",
    "new['최대상완'] = csv['최대상완']\n",
    "new['최대전완'] = csv['최대전완']\n",
    "new['최대대퇴'] = csv['최대대퇴']\n",
    "new['최대하퇴'] = csv['최대하퇴']\n",
    "new['상완.1'] = csv['상완.1']\n",
    "new['손목'] = csv['손목']\n",
    "new['대퇴.1'] = csv['대퇴.1']\n",
    "new['발목'] = csv['발목']\n",
    "new['삼두근'] = csv['삼두근']\n",
    "new['견갑골'] = csv['견갑골']\n",
    "new['전완내측'] = csv['전완내측']\n",
    "new['전완외측'] = csv['전완외측']\n",
    "new['상장골'] = csv['상장골']\n",
    "new['대퇴.2'] = csv['대퇴.2']\n",
    "new['종아리'] = csv['종아리']\n",
    "new['체중'] = csv['체중']\n",
    "new['랭킹'] = csv['랭킹']\n",
    "\n",
    "new = new.dropna(axis=0)\n",
    "new.columns"
   ]
  },
  {
   "cell_type": "code",
   "execution_count": 19,
   "metadata": {},
   "outputs": [
    {
     "data": {
      "text/plain": [
       "Index(['sex', '곧은근코어', '왼배코어', '오른배코어', '코트민첩성', '배근력', 'peakpwr', 'meanpwr',\n",
       "       'minPwr', 'p_fatigue', '신장', '상완', '하완', '대퇴', '하퇴', '최대상완', '최대전완',\n",
       "       '최대대퇴', '최대하퇴', '상완.1', '손목', '대퇴.1', '발목', '삼두근', '견갑골', '전완내측',\n",
       "       '전완외측', '상장골', '대퇴.2', '종아리', '체중', '랭킹'],\n",
       "      dtype='object')"
      ]
     },
     "execution_count": 19,
     "metadata": {},
     "output_type": "execute_result"
    }
   ],
   "source": [
    "import pandas as pd\n",
    "\n",
    "csv = pd.read_csv('Bad_mid.csv')\n",
    "\n",
    "csv = csv.drop('측정년도', axis=1)\n",
    "csv = csv.drop('초중고', axis=1)\n",
    "csv = csv.drop('no', axis=1)\n",
    "csv = csv.drop('name', axis=1)\n",
    "csv = csv.drop('생년월일', axis=1)\n",
    "csv = csv.drop('승', axis=1)\n",
    "csv = csv.drop('패', axis=1)\n",
    "csv = csv.drop('승률', axis=1)\n",
    "csv = csv.drop('Ht', axis=1)\n",
    "csv = csv.drop('Wt', axis=1)\n",
    "csv = csv.drop('BMI', axis=1)\n",
    "csv = csv.drop('서전트', axis=1)\n",
    "csv = csv.drop('육각형', axis=1)\n",
    "csv = csv.dropna(axis=1)\n",
    "csv.columns"
   ]
  },
  {
   "cell_type": "code",
   "execution_count": 27,
   "metadata": {},
   "outputs": [],
   "source": [
    "a = pd.concat([new,csv]).dropna(axis=1)\n",
    "a = a.drop('sex',axis=1)"
   ]
  },
  {
   "cell_type": "code",
   "execution_count": 30,
   "metadata": {},
   "outputs": [],
   "source": [
    "a.to_csv('Badmintain.csv', index=False, encoding='utf-8-sig')"
   ]
  },
  {
   "cell_type": "code",
   "execution_count": null,
   "metadata": {},
   "outputs": [],
   "source": []
  }
 ],
 "metadata": {
  "interpreter": {
   "hash": "b2a908de2e63cef092b4c03a3d6fd8a528dc783c2259b39b3e2e9299e7de2526"
  },
  "kernelspec": {
   "display_name": "Python 3.9.9 64-bit",
   "language": "python",
   "name": "python3"
  },
  "language_info": {
   "codemirror_mode": {
    "name": "ipython",
    "version": 3
   },
   "file_extension": ".py",
   "mimetype": "text/x-python",
   "name": "python",
   "nbconvert_exporter": "python",
   "pygments_lexer": "ipython3",
   "version": "3.9.9"
  },
  "orig_nbformat": 4
 },
 "nbformat": 4,
 "nbformat_minor": 2
}
