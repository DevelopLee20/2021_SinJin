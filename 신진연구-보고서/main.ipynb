{
 "cells": [
  {
   "cell_type": "code",
   "execution_count": 213,
   "metadata": {},
   "outputs": [],
   "source": [
    "import warnings\n",
    "warnings.filterwarnings(action='ignore')"
   ]
  },
  {
   "cell_type": "code",
   "execution_count": 214,
   "metadata": {},
   "outputs": [
    {
     "data": {
      "text/plain": [
       "Index(['sex', '곧은근코어', '왼배코어', '오른배코어', '코트민첩성', '배근력', 'peakpwr', 'meanpwr',\n",
       "       'minPwr', 'p_fatigue', '신장', '상완', '하완', '대퇴', '하퇴', '최대상완', '최대전완',\n",
       "       '최대대퇴', '최대하퇴', '상완.1', '손목', '대퇴.1', '발목', '삼두근', '견갑골', '전완내측',\n",
       "       '전완외측', '상장골', '대퇴.2', '종아리', '체중', '랭킹'],\n",
       "      dtype='object')"
      ]
     },
     "execution_count": 214,
     "metadata": {},
     "output_type": "execute_result"
    }
   ],
   "source": [
    "import pandas as pd\n",
    "\n",
    "csv = pd.read_csv('middle.csv')\n",
    "\n",
    "csv = csv.drop('측정년도', axis=1)\n",
    "csv = csv.drop('초중고', axis=1)\n",
    "csv = csv.drop('no', axis=1)\n",
    "csv = csv.drop('name', axis=1)\n",
    "csv = csv.drop('생년월일', axis=1)\n",
    "csv = csv.drop('승', axis=1)\n",
    "csv = csv.drop('패', axis=1)\n",
    "csv = csv.drop('승률', axis=1)\n",
    "csv = csv.drop('Ht', axis=1)\n",
    "csv = csv.drop('Wt', axis=1)\n",
    "csv = csv.drop('BMI', axis=1)\n",
    "csv = csv.drop('서전트', axis=1)\n",
    "csv = csv.drop('육각형', axis=1)\n",
    "csv = csv.dropna(axis=1)\n",
    "csv.columns"
   ]
  },
  {
   "cell_type": "code",
   "execution_count": 215,
   "metadata": {},
   "outputs": [
    {
     "data": {
      "text/plain": [
       "(40, 32)"
      ]
     },
     "execution_count": 215,
     "metadata": {},
     "output_type": "execute_result"
    }
   ],
   "source": [
    "csv.shape"
   ]
  },
  {
   "cell_type": "code",
   "execution_count": 216,
   "metadata": {},
   "outputs": [],
   "source": [
    "from tensorflow.keras import utils\n",
    "\n",
    "X = csv.values[:,:31]\n",
    "not_y = csv.values[:,31]\n",
    "\n",
    "y = []\n",
    "for i in not_y:\n",
    "    if i < 129*0.5:\n",
    "        y.append(0)\n",
    "    else:\n",
    "        y.append(1)\n",
    "        \n",
    "y = utils.to_categorical(y, 2)"
   ]
  },
  {
   "cell_type": "code",
   "execution_count": 217,
   "metadata": {},
   "outputs": [],
   "source": [
    "from sklearn.model_selection import train_test_split\n",
    "\n",
    "X_train, X_test, y_train, y_test = train_test_split(X, y, stratify=y, test_size=0.2, random_state=1004)\n",
    "nX_train, nX_test, ny_train, ny_test = train_test_split(X, not_y, stratify=y, test_size=0.2, random_state=1004)"
   ]
  },
  {
   "cell_type": "code",
   "execution_count": 218,
   "metadata": {},
   "outputs": [],
   "source": [
    "from sklearn.model_selection import GridSearchCV\n",
    "\n",
    "def Grid_cv(model, params, X, y):\n",
    "    grid_cv = GridSearchCV(model, param_grid=params, cv=3, n_jobs= -1)\n",
    "    grid_cv.fit(X,y)\n",
    "    return grid_cv"
   ]
  },
  {
   "cell_type": "code",
   "execution_count": 219,
   "metadata": {},
   "outputs": [],
   "source": [
    "# 정렬 후 그래프 출력\n",
    "import matplotlib.pyplot as plt\n",
    "\n",
    "def sorting_plt(values):\n",
    "    keys = csv.columns[:-1]\n",
    "    lst = {}\n",
    "    for i,j in zip(keys,values):\n",
    "        lst[j] = i\n",
    "    \n",
    "    lst = sorted(lst.items(), reverse=0)\n",
    "    \n",
    "    plt.barh([i[1] for i in lst], [i[0] for i in lst])\n",
    "    plt.show()"
   ]
  },
  {
   "cell_type": "code",
   "execution_count": 220,
   "metadata": {},
   "outputs": [],
   "source": [
    "rf_params = {\n",
    "    'n_estimators' : [i*10 for i in range(5,15)], # 기본 100\n",
    "    'max_depth' : [i for i in range(3,9)], # 기본 6\n",
    "    'min_samples_split' : [i for i in range(1,5)], # 기본 2\n",
    "    'min_samples_leaf' : [i for i in range(0,5)] # 기본 1\n",
    "}\n",
    "\n",
    "gb_params = {\n",
    "    'learning_rate' : [i*0.05 for i in range(1,20)], # 기본 0.1\n",
    "    'n_estimators' : [i*10 for i in range(5,15)], # 기본 100\n",
    "    'min_samples_split' : [i for i in range(1,5)], # 기본 2\n",
    "    'min_samples_leaf' : [i for i in range(0,5)], # 기본 1\n",
    "    'max_depth' : [i for i in range(3,9)] # 기본 6\n",
    "}\n",
    "\n",
    "ab_params = {\n",
    "    'n_estimators' : [i*10 for i in range(2,8)], # 기본 50\n",
    "    'learning_rate' : [i*0.1 for i in range(1,10)] # 기본 1.0\n",
    "}"
   ]
  },
  {
   "cell_type": "code",
   "execution_count": 221,
   "metadata": {},
   "outputs": [],
   "source": [
    "from sklearn.ensemble import RandomForestClassifier\n",
    "\n",
    "rf = RandomForestClassifier(random_state=0, n_jobs= -1)\n",
    "rf_result = Grid_cv(rf, rf_params, nX_train, ny_train)"
   ]
  },
  {
   "cell_type": "code",
   "execution_count": 222,
   "metadata": {},
   "outputs": [],
   "source": [
    "from sklearn.ensemble import GradientBoostingClassifier\n",
    "\n",
    "gb = GradientBoostingClassifier(random_state=0)\n",
    "gb_result = Grid_cv(gb, gb_params, nX_train, ny_train)"
   ]
  },
  {
   "cell_type": "code",
   "execution_count": 223,
   "metadata": {},
   "outputs": [],
   "source": [
    "from sklearn.ensemble import AdaBoostClassifier\n",
    "\n",
    "ab = AdaBoostClassifier(random_state=0)\n",
    "ab_result = Grid_cv(ab, ab_params, nX_train, ny_train)"
   ]
  },
  {
   "cell_type": "code",
   "execution_count": 224,
   "metadata": {},
   "outputs": [
    {
     "data": {
      "image/png": "[encoded data removed]",
      "text/plain": [
       "<Figure size 432x288 with 1 Axes>"
      ]
     },
     "metadata": {
      "needs_background": "light"
     },
     "output_type": "display_data"
    },
    {
     "data": {
      "image/png": "[encoded data removed]",
      "text/plain": [
       "<Figure size 432x288 with 1 Axes>"
      ]
     },
     "metadata": {
      "needs_background": "light"
     },
     "output_type": "display_data"
    },
    {
     "data": {
      "image/png": "[encoded data removed]",
      "text/plain": [
       "<Figure size 432x288 with 1 Axes>"
      ]
     },
     "metadata": {
      "needs_background": "light"
     },
     "output_type": "display_data"
    }
   ],
   "source": [
    "best_rf = RandomForestClassifier(random_state=0, n_jobs= -1)\n",
    "best_gb = GradientBoostingClassifier(random_state=0)\n",
    "best_ab = AdaBoostClassifier(random_state=0)\n",
    "best_rf.fit(X,y)\n",
    "best_gb.fit(X, not_y)\n",
    "best_ab.fit(X, not_y)\n",
    "\n",
    "sorting_plt(best_rf.feature_importances_)\n",
    "sorting_plt(best_gb.feature_importances_)\n",
    "sorting_plt(best_ab.feature_importances_)"
   ]
  },
  {
   "cell_type": "code",
   "execution_count": 225,
   "metadata": {},
   "outputs": [],
   "source": [
    "df_rf = pd.DataFrame(rf_result.cv_results_)\n",
    "df_rf['model'] = \"RandomForest\"\n",
    "\n",
    "df_gb = pd.DataFrame(gb_result.cv_results_)\n",
    "df_gb['model'] = \"GradientBoosting\"\n",
    "\n",
    "df_ab = pd.DataFrame(ab_result.cv_results_)\n",
    "df_ab['model'] = \"AdaBoost\""
   ]
  },
  {
   "cell_type": "code",
   "execution_count": 226,
   "metadata": {},
   "outputs": [],
   "source": [
    "def valuesort(values):\n",
    "    keys = csv.columns[:-1]\n",
    "    lst = {}\n",
    "    for i,j in zip(keys,values):\n",
    "        lst[j] = i\n",
    "\n",
    "    lst = sorted(lst.items(), reverse=1)\n",
    "\n",
    "    return lst"
   ]
  },
  {
   "cell_type": "code",
   "execution_count": 227,
   "metadata": {},
   "outputs": [],
   "source": [
    "weight_rf = pd.DataFrame(valuesort(best_rf.feature_importances_), columns=['weight','title'])\n",
    "weight_gb = pd.DataFrame(valuesort(best_gb.feature_importances_), columns=['weight','title'])\n",
    "weight_ab = pd.DataFrame(valuesort(best_ab.feature_importances_), columns=['weight','title'])"
   ]
  },
  {
   "cell_type": "code",
   "execution_count": 228,
   "metadata": {},
   "outputs": [],
   "source": [
    "weight_rf[['title','weight']].to_csv('./result/RandomForest_Weight.csv', index=0, encoding='utf-8-sig')\n",
    "weight_gb[['title','weight']].to_csv('./result/GradientBoosting_Weight.csv', index=0, encoding='utf-8-sig')\n",
    "weight_ab[['title','weight']].to_csv('./result/AdaBoost_Weight.csv', index=0, encoding='utf-8-sig')"
   ]
  },
  {
   "cell_type": "code",
   "execution_count": 229,
   "metadata": {},
   "outputs": [],
   "source": [
    "df_1 = pd.concat([df_rf, df_gb])\n",
    "df_2 = pd.concat([df_1, df_ab])\n",
    "\n",
    "df_3 = pd.DataFrame()\n",
    "df_3['model'] = df_2['model']\n",
    "df_3['score'] = df_2['mean_test_score']\n",
    "df_3['params'] = df_2['params']\n",
    "\n",
    "df_3.to_csv('./result/0Model_Score.csv', index=0)"
   ]
  },
  {
   "cell_type": "code",
   "execution_count": null,
   "metadata": {},
   "outputs": [],
   "source": []
  }
 ],
 "metadata": {
  "interpreter": {
   "hash": "b2a908de2e63cef092b4c03a3d6fd8a528dc783c2259b39b3e2e9299e7de2526"
  },
  "kernelspec": {
   "display_name": "Python 3.9.9 64-bit",
   "language": "python",
   "name": "python3"
  },
  "language_info": {
   "codemirror_mode": {
    "name": "ipython",
    "version": 3
   },
   "file_extension": ".py",
   "mimetype": "text/x-python",
   "name": "python",
   "nbconvert_exporter": "python",
   "pygments_lexer": "ipython3",
   "version": "3.9.9"
  },
  "orig_nbformat": 4
 },
 "nbformat": 4,
 "nbformat_minor": 2
}
