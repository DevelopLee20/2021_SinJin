{
    "cells": [
        {
            "cell_type": "code",
            "execution_count": 1,
            "source": [
                "# 1. \"안녕하세요.\" 의 자료형을 알아내는 코드를 작성해주세요.\r\n",
                "\r\n",
                "text = \"안녕하세요\"\r\n",
                "print('_____')"
            ],
            "outputs": [],
            "metadata": {}
        },
        {
            "cell_type": "code",
            "execution_count": 2,
            "source": [
                "# 2. \"안녕\" 을 출력하도록 코드를 작성해주세요.\r\n",
                "\r\n",
                "text = \"안녕하세요\"\r\n",
                "print('_____')"
            ],
            "outputs": [
                {
                    "output_type": "stream",
                    "name": "stdout",
                    "text": [
                        "_____\n"
                    ]
                }
            ],
            "metadata": {}
        },
        {
            "cell_type": "code",
            "execution_count": 3,
            "source": [
                "# 3. 사람의 이름을 각각 두 줄에 나누어 한 줄씩 나오도록 코드를 작성해주세요.\r\n",
                "\r\n",
                "name = \"윤인성 천인국\"\r\n",
                "print('_____')"
            ],
            "outputs": [
                {
                    "output_type": "stream",
                    "name": "stdout",
                    "text": [
                        "_____\n"
                    ]
                }
            ],
            "metadata": {}
        },
        {
            "cell_type": "code",
            "execution_count": 4,
            "source": [
                "# 4. '파이썬파이썬파이썬파이썬' 문장이 나오도록 코드를 작성해주세요.\r\n",
                "\r\n",
                "text = '파이썬'\r\n",
                "print('_____')"
            ],
            "outputs": [
                {
                    "output_type": "stream",
                    "name": "stdout",
                    "text": [
                        "_____\n"
                    ]
                }
            ],
            "metadata": {}
        },
        {
            "cell_type": "code",
            "execution_count": null,
            "source": [
                "# 5. [도전] 월, 화, 수, 목, 금, 토, 일 이 한 줄에 하나씩 나오도록 코드를 작성해주세요\r\n",
                "\r\n",
                "text = \"월화수목금토일\"\r\n",
                "\r\n",
                "for i in range('_____'):\r\n",
                "    print('_____')"
            ],
            "outputs": [],
            "metadata": {}
        },
        {
            "cell_type": "code",
            "execution_count": 6,
            "source": [
                "# 6. 3+2 = 5 라는 것을 증명하는 코드를 작성해주세요\r\n",
                "\r\n",
                "a = 3\r\n",
                "b = 2\r\n",
                "print('_____')"
            ],
            "outputs": [
                {
                    "output_type": "stream",
                    "name": "stdout",
                    "text": [
                        "_____\n"
                    ]
                }
            ],
            "metadata": {}
        },
        {
            "cell_type": "code",
            "execution_count": 7,
            "source": [
                "# 7. 3+3*3 = 의 결과를 출력하는 코드를 작성해주세요\r\n",
                "\r\n",
                "a = 3\r\n",
                "print('_____')"
            ],
            "outputs": [
                {
                    "output_type": "stream",
                    "name": "stdout",
                    "text": [
                        "_____\n"
                    ]
                }
            ],
            "metadata": {}
        },
        {
            "cell_type": "code",
            "execution_count": 8,
            "source": [
                "# 8. 정수와 실수를 입력받고 그 합을 출력하는 코드를 작성해주세요\r\n",
                "\r\n",
                "a = '_____'\r\n",
                "b = '_____'\r\n",
                "\r\n",
                "print(a+b)"
            ],
            "outputs": [
                {
                    "output_type": "stream",
                    "name": "stdout",
                    "text": [
                        "__________\n"
                    ]
                }
            ],
            "metadata": {}
        },
        {
            "cell_type": "code",
            "execution_count": 11,
            "source": [
                "# 9. 이 책값은 18000원입니다. 라는 문장을 완성하는 코드를 작성해주세요\r\n",
                "\r\n",
                "text = \"이 책값은 {}원입니다.\"'_____'\r\n",
                "print(text)"
            ],
            "outputs": [
                {
                    "output_type": "stream",
                    "name": "stdout",
                    "text": [
                        "이 책값은 {}원입니다._____\n"
                    ]
                }
            ],
            "metadata": {}
        },
        {
            "cell_type": "code",
            "execution_count": 12,
            "source": [
                "# 10. 문장을 모두 대문자와 소문자로 바꾸어주세요\r\n",
                "\r\n",
                "text = \"Python is very Good\"\r\n",
                "\r\n",
                "up = '_____'\r\n",
                "down = '_____'"
            ],
            "outputs": [],
            "metadata": {}
        },
        {
            "cell_type": "code",
            "execution_count": 14,
            "source": [
                "# 11. 문장의 공백을 제거해주세요\r\n",
                "\r\n",
                "text = '   파이썬   '\r\n",
                "print('_____')"
            ],
            "outputs": [
                {
                    "output_type": "stream",
                    "name": "stdout",
                    "text": [
                        "_____\n"
                    ]
                }
            ],
            "metadata": {}
        },
        {
            "cell_type": "code",
            "execution_count": 21,
            "source": [
                "# 12. [도전] 문장의 '파이썬'이라는 단어를 출력해주는 코드를 작성해주세요\r\n",
                "\r\n",
                "text = '자바파이썬C언어'\r\n",
                "\r\n",
                "locate = '_____'\r\n",
                "\r\n",
                "print(text[locate:locate+3])"
            ],
            "outputs": [
                {
                    "output_type": "error",
                    "ename": "SyntaxError",
                    "evalue": "invalid syntax (<ipython-input-21-3e24cb325216>, line 5)",
                    "traceback": [
                        "\u001b[1;36m  File \u001b[1;32m\"<ipython-input-21-3e24cb325216>\"\u001b[1;36m, line \u001b[1;32m5\u001b[0m\n\u001b[1;33m    locate = text.'_____'\u001b[0m\n\u001b[1;37m                  ^\u001b[0m\n\u001b[1;31mSyntaxError\u001b[0m\u001b[1;31m:\u001b[0m invalid syntax\n"
                    ]
                }
            ],
            "metadata": {}
        },
        {
            "cell_type": "code",
            "execution_count": 22,
            "source": [
                "# 13. [도전] 동물이 목록에 있을 경우에만 '동물이 있다' 라는 문장이 출력되는 코드를 작성해주세요\r\n",
                "\r\n",
                "animal_list = ['고양이', '강아지', '고슴도치']\r\n",
                "check_list = ['고양이', '토끼']\r\n",
                "\r\n",
                "for i in '_____':\r\n",
                "    if i in '_____':\r\n",
                "        print(i,\"는 있다\")"
            ],
            "outputs": [
                {
                    "output_type": "stream",
                    "name": "stdout",
                    "text": [
                        "_ 는 있다\n",
                        "_ 는 있다\n",
                        "_ 는 있다\n",
                        "_ 는 있다\n",
                        "_ 는 있다\n"
                    ]
                }
            ],
            "metadata": {}
        },
        {
            "cell_type": "code",
            "execution_count": null,
            "source": [
                "# 14. 긴 문장을 ,를 기준으로 나누어서 출력하는 코드를 작성해주세요\r\n",
                "\r\n",
                "text = '자바,파이썬,구글,C언어'\r\n",
                "\r\n",
                "print('_____')"
            ],
            "outputs": [],
            "metadata": {}
        }
    ],
    "metadata": {
        "orig_nbformat": 4,
        "language_info": {
            "name": "python",
            "version": "3.9.1",
            "mimetype": "text/x-python",
            "codemirror_mode": {
                "name": "ipython",
                "version": 3
            },
            "pygments_lexer": "ipython3",
            "nbconvert_exporter": "python",
            "file_extension": ".py"
        },
        "kernelspec": {
            "name": "python3",
            "display_name": "Python 3.9.1 64-bit"
        },
        "interpreter": {
            "hash": "b2a908de2e63cef092b4c03a3d6fd8a528dc783c2259b39b3e2e9299e7de2526"
        }
    },
    "nbformat": 4,
    "nbformat_minor": 2
}