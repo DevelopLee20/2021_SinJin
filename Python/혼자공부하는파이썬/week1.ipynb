{
    "cells": [
        {
            "cell_type": "code",
            "execution_count": 5,
            "source": [
                "# 1. \"안녕하세요.\" 의 자료형을 알아내는 코드를 작성해주세요.\r\n",
                "\r\n",
                "text = \"안녕하세요\"\r\n",
                "print(type(text))"
            ],
            "outputs": [
                {
                    "output_type": "stream",
                    "name": "stdout",
                    "text": [
                        "<class 'str'>\n"
                    ]
                }
            ],
            "metadata": {}
        },
        {
            "cell_type": "code",
            "execution_count": 8,
            "source": [
                "# 2. \"안녕\" 을 출력하도록 코드를 작성해주세요.\r\n",
                "\r\n",
                "text = \"안녕하세요\"\r\n",
                "print(text[:2])"
            ],
            "outputs": [
                {
                    "output_type": "stream",
                    "name": "stdout",
                    "text": [
                        "안녕\n"
                    ]
                }
            ],
            "metadata": {}
        },
        {
            "cell_type": "code",
            "execution_count": 11,
            "source": [
                "# 3. 사람의 이름을 각각 두 줄에 나누어 한 줄씩 나오도록 코드를 작성해주세요.\r\n",
                "\r\n",
                "name = \"윤인성 천인국\"\r\n",
                "print(name.split(' ')[0])\r\n",
                "print(name.split(' ')[1])"
            ],
            "outputs": [
                {
                    "output_type": "stream",
                    "name": "stdout",
                    "text": [
                        "윤인성\n",
                        "천인국\n"
                    ]
                }
            ],
            "metadata": {}
        },
        {
            "cell_type": "code",
            "execution_count": 13,
            "source": [
                "# 4. '파이썬파이썬파이썬파이썬' 문장이 나오도록 코드를 작성해주세요.\r\n",
                "\r\n",
                "text = '파이썬'\r\n",
                "print(text*4)"
            ],
            "outputs": [
                {
                    "output_type": "stream",
                    "name": "stdout",
                    "text": [
                        "파이썬파이썬파이썬파이썬\n"
                    ]
                }
            ],
            "metadata": {}
        },
        {
            "cell_type": "code",
            "execution_count": 14,
            "source": [
                "# 5. [도전] 월, 화, 수, 목, 금, 토, 일 이 한 줄에 하나씩 나오도록 코드를 작성해주세요\r\n",
                "\r\n",
                "text = \"월화수목금토일\"\r\n",
                "\r\n",
                "for i in range(len(text)):\r\n",
                "    print(text[i])"
            ],
            "outputs": [
                {
                    "output_type": "stream",
                    "name": "stdout",
                    "text": [
                        "월\n",
                        "화\n",
                        "수\n",
                        "목\n",
                        "금\n",
                        "토\n",
                        "일\n"
                    ]
                }
            ],
            "metadata": {}
        },
        {
            "cell_type": "code",
            "execution_count": 15,
            "source": [
                "# 6. 3+2 = 5 라는 것을 증명하는 코드를 작성해주세요\r\n",
                "\r\n",
                "a = 3\r\n",
                "b = 2\r\n",
                "print(a+b)"
            ],
            "outputs": [
                {
                    "output_type": "stream",
                    "name": "stdout",
                    "text": [
                        "5\n"
                    ]
                }
            ],
            "metadata": {}
        },
        {
            "cell_type": "code",
            "execution_count": 16,
            "source": [
                "# 7. 3+3*3 = 의 결과를 출력하는 코드를 작성해주세요\r\n",
                "\r\n",
                "a = 3\r\n",
                "print(a+a*a)"
            ],
            "outputs": [
                {
                    "output_type": "stream",
                    "name": "stdout",
                    "text": [
                        "12\n"
                    ]
                }
            ],
            "metadata": {}
        },
        {
            "cell_type": "code",
            "execution_count": 18,
            "source": [
                "# 8. 정수와 실수를 입력받고 그 합을 출력하는 코드를 작성해주세요\r\n",
                "\r\n",
                "a = int(input('정수를 입력'))\r\n",
                "b = float(input('실수입력'))\r\n",
                "\r\n",
                "print(a+b)"
            ],
            "outputs": [
                {
                    "output_type": "stream",
                    "name": "stdout",
                    "text": [
                        "8.5\n"
                    ]
                }
            ],
            "metadata": {}
        },
        {
            "cell_type": "code",
            "execution_count": 20,
            "source": [
                "# 9. 이 책값은 18000원입니다. 라는 문장을 완성하는 코드를 작성해주세요\r\n",
                "\r\n",
                "text = \"이 책값은 {}원입니다.\".format(18000)\r\n",
                "print(text)"
            ],
            "outputs": [
                {
                    "output_type": "stream",
                    "name": "stdout",
                    "text": [
                        "이 책값은 18000원입니다.\n"
                    ]
                }
            ],
            "metadata": {}
        },
        {
            "cell_type": "code",
            "execution_count": 23,
            "source": [
                "# 10. 문장을 모두 대문자와 소문자로 바꾸어주세요\r\n",
                "\r\n",
                "text = \"Python is very Good\"\r\n",
                "\r\n",
                "up = text.upper()\r\n",
                "down = text.lower()\r\n",
                "up"
            ],
            "outputs": [
                {
                    "output_type": "execute_result",
                    "data": {
                        "text/plain": [
                            "'PYTHON IS VERY GOOD'"
                        ]
                    },
                    "metadata": {},
                    "execution_count": 23
                }
            ],
            "metadata": {}
        },
        {
            "cell_type": "code",
            "execution_count": 26,
            "source": [
                "# 11. 문장의 공백을 제거해주세요\r\n",
                "\r\n",
                "text = '   파이썬   '\r\n",
                "print((text).strip())"
            ],
            "outputs": [
                {
                    "output_type": "stream",
                    "name": "stdout",
                    "text": [
                        "파이썬\n"
                    ]
                }
            ],
            "metadata": {}
        },
        {
            "cell_type": "code",
            "execution_count": 30,
            "source": [
                "# 12. [도전] 문장의 '파이썬'이라는 단어를 출력해주는 코드를 작성해주세요\r\n",
                "\r\n",
                "text = '자바파이썬C언어'\r\n",
                "\r\n",
                "locate = 2\r\n",
                "\r\n",
                "print(text[locate:locate+3])"
            ],
            "outputs": [
                {
                    "output_type": "stream",
                    "name": "stdout",
                    "text": [
                        "파이썬\n"
                    ]
                }
            ],
            "metadata": {}
        },
        {
            "cell_type": "code",
            "execution_count": 22,
            "source": [
                "# 13. [도전] 동물이 목록에 있을 경우에만 '동물이 있다' 라는 문장이 출력되는 코드를 작성해주세요\r\n",
                "\r\n",
                "animal_list = ['고양이', '강아지', '고슴도치']\r\n",
                "check_list = ['고양이', '토끼']\r\n",
                "\r\n",
                "for i in animal_list:\r\n",
                "    if i in check_list:\r\n",
                "        print(i,\"는 있다\")"
            ],
            "outputs": [
                {
                    "output_type": "stream",
                    "name": "stdout",
                    "text": [
                        "_ 는 있다\n",
                        "_ 는 있다\n",
                        "_ 는 있다\n",
                        "_ 는 있다\n",
                        "_ 는 있다\n"
                    ]
                }
            ],
            "metadata": {}
        },
        {
            "cell_type": "code",
            "execution_count": 27,
            "source": [
                "# 14. 긴 문장을 ,를 기준으로 나누어서 출력하는 코드를 작성해주세요\r\n",
                "\r\n",
                "text = '자바,파이썬,구글,C언어'\r\n",
                "\r\n",
                "print(text.split(','))"
            ],
            "outputs": [
                {
                    "output_type": "stream",
                    "name": "stdout",
                    "text": [
                        "['자바', '파이썬', '구글', 'C언어']\n"
                    ]
                }
            ],
            "metadata": {}
        }
    ],
    "metadata": {
        "orig_nbformat": 4,
        "language_info": {
            "name": "python",
            "version": "3.9.1",
            "mimetype": "text/x-python",
            "codemirror_mode": {
                "name": "ipython",
                "version": 3
            },
            "pygments_lexer": "ipython3",
            "nbconvert_exporter": "python",
            "file_extension": ".py"
        },
        "kernelspec": {
            "name": "python3",
            "display_name": "Python 3.9.1 64-bit"
        },
        "interpreter": {
            "hash": "b2a908de2e63cef092b4c03a3d6fd8a528dc783c2259b39b3e2e9299e7de2526"
        }
    },
    "nbformat": 4,
    "nbformat_minor": 2
}